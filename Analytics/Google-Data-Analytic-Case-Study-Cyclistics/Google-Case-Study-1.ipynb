{
 "cells": [
  {
   "cell_type": "markdown",
   "id": "59933344",
   "metadata": {},
   "source": [
    "# 1- Importing the datatrip and combining it as one dataset"
   ]
  },
  {
   "cell_type": "code",
   "execution_count": 1,
   "id": "2397deee",
   "metadata": {},
   "outputs": [],
   "source": [
    "#import library\n",
    "\n",
    "import pandas as pd\n",
    "from zipfile import ZipFile,Path\n",
    "import glob\n",
    "import fnmatch\n",
    "from io import BytesIO, StringIO\n",
    "import numpy as np\n",
    "import datetime"
   ]
  },
  {
   "cell_type": "code",
   "execution_count": 2,
   "id": "8e396fbf",
   "metadata": {},
   "outputs": [],
   "source": [
    "#df_master : it is the combined data set\n",
    "\n",
    "path = r'C:\\Users\\G84183771\\Downloads\\Learn\\tripdata\\tripcsv\\*'\n",
    "#load all zip files in folder\n",
    "all_files = glob.glob(path)\n",
    "\n",
    "\n",
    "df_master = pd.DataFrame()\n",
    "#flag = False\n",
    "\n",
    "for filename in all_files:\n",
    "    df=pd.read_csv(filename)\n",
    "    #print(df.head())\n",
    "    df_master=pd.concat([df_master, df])\n"
   ]
  },
  {
   "cell_type": "markdown",
   "id": "5b488d9e",
   "metadata": {},
   "source": [
    "## dataset information"
   ]
  },
  {
   "cell_type": "code",
   "execution_count": 3,
   "id": "185bdcf2",
   "metadata": {
    "scrolled": true
   },
   "outputs": [
    {
     "data": {
      "text/plain": [
       "Index(['ride_id', 'rideable_type', 'started_at', 'ended_at',\n",
       "       'start_station_name', 'start_station_id', 'end_station_name',\n",
       "       'end_station_id', 'start_lat', 'start_lng', 'end_lat', 'end_lng',\n",
       "       'member_casual'],\n",
       "      dtype='object')"
      ]
     },
     "execution_count": 3,
     "metadata": {},
     "output_type": "execute_result"
    }
   ],
   "source": [
    "''' Having columns of the dataset'''\n",
    "df_master.columns"
   ]
  },
  {
   "cell_type": "code",
   "execution_count": 4,
   "id": "33154d07",
   "metadata": {},
   "outputs": [],
   "source": [
    "'''converting to column to good data type'''\n",
    "df_master['started_at']= pd.to_datetime(df_master['started_at'])\n",
    "df_master['ended_at']=pd.to_datetime(df_master['ended_at'])\n"
   ]
  },
  {
   "cell_type": "code",
   "execution_count": 6,
   "id": "d535f9d6",
   "metadata": {},
   "outputs": [
    {
     "name": "stdout",
     "output_type": "stream",
     "text": [
      "<class 'pandas.core.frame.DataFrame'>\n",
      "Int64Index: 5883043 entries, 0 to 785931\n",
      "Data columns (total 13 columns):\n",
      " #   Column              Dtype         \n",
      "---  ------              -----         \n",
      " 0   ride_id             object        \n",
      " 1   rideable_type       object        \n",
      " 2   started_at          datetime64[ns]\n",
      " 3   ended_at            datetime64[ns]\n",
      " 4   start_station_name  object        \n",
      " 5   start_station_id    object        \n",
      " 6   end_station_name    object        \n",
      " 7   end_station_id      object        \n",
      " 8   start_lat           float64       \n",
      " 9   start_lng           float64       \n",
      " 10  end_lat             float64       \n",
      " 11  end_lng             float64       \n",
      " 12  member_casual       object        \n",
      "dtypes: datetime64[ns](2), float64(4), object(7)\n",
      "memory usage: 628.4+ MB\n"
     ]
    }
   ],
   "source": [
    "df_master.info()"
   ]
  },
  {
   "cell_type": "markdown",
   "id": "fcf61e20",
   "metadata": {},
   "source": [
    "# 2- Cleaning the dataset"
   ]
  },
  {
   "cell_type": "markdown",
   "id": "7e3ea021",
   "metadata": {},
   "source": [
    "## adding new columns"
   ]
  },
  {
   "cell_type": "code",
   "execution_count": 7,
   "id": "73d9e7f4",
   "metadata": {},
   "outputs": [
    {
     "name": "stdout",
     "output_type": "stream",
     "text": [
      "<class 'pandas.core.frame.DataFrame'>\n",
      "Int64Index: 5883043 entries, 0 to 785931\n",
      "Data columns (total 14 columns):\n",
      " #   Column              Dtype         \n",
      "---  ------              -----         \n",
      " 0   ride_id             object        \n",
      " 1   rideable_type       object        \n",
      " 2   started_at          datetime64[ns]\n",
      " 3   ended_at            datetime64[ns]\n",
      " 4   start_station_name  object        \n",
      " 5   start_station_id    object        \n",
      " 6   end_station_name    object        \n",
      " 7   end_station_id      object        \n",
      " 8   start_lat           float64       \n",
      " 9   start_lng           float64       \n",
      " 10  end_lat             float64       \n",
      " 11  end_lng             float64       \n",
      " 12  member_casual       object        \n",
      " 13  ride_length         float64       \n",
      "dtypes: datetime64[ns](2), float64(5), object(7)\n",
      "memory usage: 673.3+ MB\n"
     ]
    }
   ],
   "source": [
    "''' calculating the ride length'''\n",
    "\n",
    "## ride_length is in seconds\n",
    "\n",
    "df_master['ride_length'] = df_master.ended_at-df_master.started_at\n",
    "df_master['ride_length']=df_master['ride_length'].astype('timedelta64[s]') #converting it to seconds\n",
    "\n",
    "df_master.info()"
   ]
  },
  {
   "cell_type": "code",
   "execution_count": 9,
   "id": "8eede66f",
   "metadata": {},
   "outputs": [],
   "source": [
    "''' Getting the week day 0=monday and 6=sunday'''\n",
    "\n",
    "df_master['day_number']=df_master['started_at'].dt.day_of_week\n",
    "df_master['day_name']=df_master['started_at'].dt.day_name()\n",
    "\n",
    "df_master['month_name']= pd.to_datetime(df_master['started_at']).dt.to_period('M')"
   ]
  },
  {
   "cell_type": "markdown",
   "id": "fba9aead",
   "metadata": {},
   "source": [
    "## Verify if ride_length is negative"
   ]
  },
  {
   "cell_type": "code",
   "execution_count": 11,
   "id": "02f6fa4d",
   "metadata": {},
   "outputs": [
    {
     "data": {
      "text/html": [
       "<div>\n",
       "<style scoped>\n",
       "    .dataframe tbody tr th:only-of-type {\n",
       "        vertical-align: middle;\n",
       "    }\n",
       "\n",
       "    .dataframe tbody tr th {\n",
       "        vertical-align: top;\n",
       "    }\n",
       "\n",
       "    .dataframe thead th {\n",
       "        text-align: right;\n",
       "    }\n",
       "</style>\n",
       "<table border=\"1\" class=\"dataframe\">\n",
       "  <thead>\n",
       "    <tr style=\"text-align: right;\">\n",
       "      <th></th>\n",
       "      <th>ride_id</th>\n",
       "      <th>rideable_type</th>\n",
       "      <th>started_at</th>\n",
       "      <th>ended_at</th>\n",
       "      <th>start_station_name</th>\n",
       "      <th>start_station_id</th>\n",
       "      <th>end_station_name</th>\n",
       "      <th>end_station_id</th>\n",
       "      <th>start_lat</th>\n",
       "      <th>start_lng</th>\n",
       "      <th>end_lat</th>\n",
       "      <th>end_lng</th>\n",
       "      <th>member_casual</th>\n",
       "      <th>ride_length</th>\n",
       "      <th>day_number</th>\n",
       "      <th>day_name</th>\n",
       "      <th>month_name</th>\n",
       "    </tr>\n",
       "  </thead>\n",
       "  <tbody>\n",
       "    <tr>\n",
       "      <th>8950</th>\n",
       "      <td>BE93718DC9182ED6</td>\n",
       "      <td>classic_bike</td>\n",
       "      <td>2021-09-29 17:04:38</td>\n",
       "      <td>2021-09-29 17:04:27</td>\n",
       "      <td>Shields Ave &amp; 28th Pl</td>\n",
       "      <td>15443</td>\n",
       "      <td>Shields Ave &amp; 28th Pl</td>\n",
       "      <td>15443</td>\n",
       "      <td>41.842733</td>\n",
       "      <td>-87.635491</td>\n",
       "      <td>41.842733</td>\n",
       "      <td>-87.635491</td>\n",
       "      <td>member</td>\n",
       "      <td>-11.0</td>\n",
       "      <td>2</td>\n",
       "      <td>Wednesday</td>\n",
       "      <td>2021-09</td>\n",
       "    </tr>\n",
       "    <tr>\n",
       "      <th>49311</th>\n",
       "      <td>6E5FD2F624AC87D3</td>\n",
       "      <td>classic_bike</td>\n",
       "      <td>2021-09-01 17:49:37</td>\n",
       "      <td>2021-09-01 17:49:31</td>\n",
       "      <td>Clybourn Ave &amp; Division St</td>\n",
       "      <td>TA1307000115</td>\n",
       "      <td>Clybourn Ave &amp; Division St</td>\n",
       "      <td>TA1307000115</td>\n",
       "      <td>41.904613</td>\n",
       "      <td>-87.640552</td>\n",
       "      <td>41.904613</td>\n",
       "      <td>-87.640552</td>\n",
       "      <td>member</td>\n",
       "      <td>-6.0</td>\n",
       "      <td>2</td>\n",
       "      <td>Wednesday</td>\n",
       "      <td>2021-09</td>\n",
       "    </tr>\n",
       "    <tr>\n",
       "      <th>69949</th>\n",
       "      <td>FA4DC99A39C36D54</td>\n",
       "      <td>classic_bike</td>\n",
       "      <td>2021-09-29 16:53:34</td>\n",
       "      <td>2021-09-29 16:53:29</td>\n",
       "      <td>Financial Pl &amp; Ida B Wells Dr</td>\n",
       "      <td>SL-010</td>\n",
       "      <td>Financial Pl &amp; Ida B Wells Dr</td>\n",
       "      <td>SL-010</td>\n",
       "      <td>41.875024</td>\n",
       "      <td>-87.633094</td>\n",
       "      <td>41.875024</td>\n",
       "      <td>-87.633094</td>\n",
       "      <td>member</td>\n",
       "      <td>-5.0</td>\n",
       "      <td>2</td>\n",
       "      <td>Wednesday</td>\n",
       "      <td>2021-09</td>\n",
       "    </tr>\n",
       "    <tr>\n",
       "      <th>82802</th>\n",
       "      <td>85BC495341AB2F18</td>\n",
       "      <td>electric_bike</td>\n",
       "      <td>2021-09-01 18:45:38</td>\n",
       "      <td>2021-09-01 18:45:24</td>\n",
       "      <td>Halsted St &amp; Dickens Ave</td>\n",
       "      <td>13192</td>\n",
       "      <td>Halsted St &amp; Dickens Ave</td>\n",
       "      <td>13192</td>\n",
       "      <td>41.919884</td>\n",
       "      <td>-87.648791</td>\n",
       "      <td>41.919910</td>\n",
       "      <td>-87.648777</td>\n",
       "      <td>member</td>\n",
       "      <td>-14.0</td>\n",
       "      <td>2</td>\n",
       "      <td>Wednesday</td>\n",
       "      <td>2021-09</td>\n",
       "    </tr>\n",
       "    <tr>\n",
       "      <th>139417</th>\n",
       "      <td>4A68473D329D45C9</td>\n",
       "      <td>classic_bike</td>\n",
       "      <td>2021-09-29 18:42:50</td>\n",
       "      <td>2021-09-29 18:36:24</td>\n",
       "      <td>Ashland Ave &amp; Division St</td>\n",
       "      <td>13061</td>\n",
       "      <td>Ashland Ave &amp; Division St</td>\n",
       "      <td>13061</td>\n",
       "      <td>41.903450</td>\n",
       "      <td>-87.667747</td>\n",
       "      <td>41.903450</td>\n",
       "      <td>-87.667747</td>\n",
       "      <td>member</td>\n",
       "      <td>-386.0</td>\n",
       "      <td>2</td>\n",
       "      <td>Wednesday</td>\n",
       "      <td>2021-09</td>\n",
       "    </tr>\n",
       "    <tr>\n",
       "      <th>...</th>\n",
       "      <td>...</td>\n",
       "      <td>...</td>\n",
       "      <td>...</td>\n",
       "      <td>...</td>\n",
       "      <td>...</td>\n",
       "      <td>...</td>\n",
       "      <td>...</td>\n",
       "      <td>...</td>\n",
       "      <td>...</td>\n",
       "      <td>...</td>\n",
       "      <td>...</td>\n",
       "      <td>...</td>\n",
       "      <td>...</td>\n",
       "      <td>...</td>\n",
       "      <td>...</td>\n",
       "      <td>...</td>\n",
       "      <td>...</td>\n",
       "    </tr>\n",
       "    <tr>\n",
       "      <th>677683</th>\n",
       "      <td>A2991D490436A806</td>\n",
       "      <td>electric_bike</td>\n",
       "      <td>2022-08-27 13:18:54</td>\n",
       "      <td>2022-08-27 13:15:58</td>\n",
       "      <td>Lincoln Ave &amp; Roscoe St*</td>\n",
       "      <td>chargingstx5</td>\n",
       "      <td>Lincoln Ave &amp; Roscoe St*</td>\n",
       "      <td>chargingstx5</td>\n",
       "      <td>41.943322</td>\n",
       "      <td>-87.670977</td>\n",
       "      <td>41.943350</td>\n",
       "      <td>-87.670668</td>\n",
       "      <td>member</td>\n",
       "      <td>-176.0</td>\n",
       "      <td>5</td>\n",
       "      <td>Saturday</td>\n",
       "      <td>2022-08</td>\n",
       "    </tr>\n",
       "    <tr>\n",
       "      <th>677684</th>\n",
       "      <td>E2F6294CE68E07AA</td>\n",
       "      <td>electric_bike</td>\n",
       "      <td>2022-08-27 13:17:51</td>\n",
       "      <td>2022-08-27 13:15:58</td>\n",
       "      <td>Lincoln Ave &amp; Roscoe St*</td>\n",
       "      <td>chargingstx5</td>\n",
       "      <td>Lincoln Ave &amp; Roscoe St*</td>\n",
       "      <td>chargingstx5</td>\n",
       "      <td>41.943317</td>\n",
       "      <td>-87.670950</td>\n",
       "      <td>41.943350</td>\n",
       "      <td>-87.670668</td>\n",
       "      <td>member</td>\n",
       "      <td>-113.0</td>\n",
       "      <td>5</td>\n",
       "      <td>Saturday</td>\n",
       "      <td>2022-08</td>\n",
       "    </tr>\n",
       "    <tr>\n",
       "      <th>677685</th>\n",
       "      <td>EC54018617CC3AE7</td>\n",
       "      <td>electric_bike</td>\n",
       "      <td>2022-08-27 13:22:25</td>\n",
       "      <td>2022-08-27 13:15:58</td>\n",
       "      <td>Lincoln Ave &amp; Roscoe St*</td>\n",
       "      <td>chargingstx5</td>\n",
       "      <td>Lincoln Ave &amp; Roscoe St*</td>\n",
       "      <td>chargingstx5</td>\n",
       "      <td>41.943258</td>\n",
       "      <td>-87.670954</td>\n",
       "      <td>41.943350</td>\n",
       "      <td>-87.670668</td>\n",
       "      <td>member</td>\n",
       "      <td>-387.0</td>\n",
       "      <td>5</td>\n",
       "      <td>Saturday</td>\n",
       "      <td>2022-08</td>\n",
       "    </tr>\n",
       "    <tr>\n",
       "      <th>682325</th>\n",
       "      <td>0DB781397E2287B7</td>\n",
       "      <td>electric_bike</td>\n",
       "      <td>2022-08-27 13:16:39</td>\n",
       "      <td>2022-08-27 13:15:58</td>\n",
       "      <td>NaN</td>\n",
       "      <td>NaN</td>\n",
       "      <td>Lincoln Ave &amp; Roscoe St*</td>\n",
       "      <td>chargingstx5</td>\n",
       "      <td>41.940000</td>\n",
       "      <td>-87.670000</td>\n",
       "      <td>41.943350</td>\n",
       "      <td>-87.670668</td>\n",
       "      <td>member</td>\n",
       "      <td>-41.0</td>\n",
       "      <td>5</td>\n",
       "      <td>Saturday</td>\n",
       "      <td>2022-08</td>\n",
       "    </tr>\n",
       "    <tr>\n",
       "      <th>682421</th>\n",
       "      <td>F33D11F3AF0F522E</td>\n",
       "      <td>electric_bike</td>\n",
       "      <td>2022-08-25 00:39:40</td>\n",
       "      <td>2022-08-25 00:39:34</td>\n",
       "      <td>NaN</td>\n",
       "      <td>NaN</td>\n",
       "      <td>Lincoln Ave &amp; Roscoe St*</td>\n",
       "      <td>chargingstx5</td>\n",
       "      <td>41.940000</td>\n",
       "      <td>-87.670000</td>\n",
       "      <td>41.943350</td>\n",
       "      <td>-87.670668</td>\n",
       "      <td>member</td>\n",
       "      <td>-6.0</td>\n",
       "      <td>3</td>\n",
       "      <td>Thursday</td>\n",
       "      <td>2022-08</td>\n",
       "    </tr>\n",
       "  </tbody>\n",
       "</table>\n",
       "<p>135 rows × 17 columns</p>\n",
       "</div>"
      ],
      "text/plain": [
       "                 ride_id  rideable_type          started_at  \\\n",
       "8950    BE93718DC9182ED6   classic_bike 2021-09-29 17:04:38   \n",
       "49311   6E5FD2F624AC87D3   classic_bike 2021-09-01 17:49:37   \n",
       "69949   FA4DC99A39C36D54   classic_bike 2021-09-29 16:53:34   \n",
       "82802   85BC495341AB2F18  electric_bike 2021-09-01 18:45:38   \n",
       "139417  4A68473D329D45C9   classic_bike 2021-09-29 18:42:50   \n",
       "...                  ...            ...                 ...   \n",
       "677683  A2991D490436A806  electric_bike 2022-08-27 13:18:54   \n",
       "677684  E2F6294CE68E07AA  electric_bike 2022-08-27 13:17:51   \n",
       "677685  EC54018617CC3AE7  electric_bike 2022-08-27 13:22:25   \n",
       "682325  0DB781397E2287B7  electric_bike 2022-08-27 13:16:39   \n",
       "682421  F33D11F3AF0F522E  electric_bike 2022-08-25 00:39:40   \n",
       "\n",
       "                  ended_at             start_station_name start_station_id  \\\n",
       "8950   2021-09-29 17:04:27          Shields Ave & 28th Pl            15443   \n",
       "49311  2021-09-01 17:49:31     Clybourn Ave & Division St     TA1307000115   \n",
       "69949  2021-09-29 16:53:29  Financial Pl & Ida B Wells Dr           SL-010   \n",
       "82802  2021-09-01 18:45:24       Halsted St & Dickens Ave            13192   \n",
       "139417 2021-09-29 18:36:24      Ashland Ave & Division St            13061   \n",
       "...                    ...                            ...              ...   \n",
       "677683 2022-08-27 13:15:58       Lincoln Ave & Roscoe St*     chargingstx5   \n",
       "677684 2022-08-27 13:15:58       Lincoln Ave & Roscoe St*     chargingstx5   \n",
       "677685 2022-08-27 13:15:58       Lincoln Ave & Roscoe St*     chargingstx5   \n",
       "682325 2022-08-27 13:15:58                            NaN              NaN   \n",
       "682421 2022-08-25 00:39:34                            NaN              NaN   \n",
       "\n",
       "                     end_station_name end_station_id  start_lat  start_lng  \\\n",
       "8950            Shields Ave & 28th Pl          15443  41.842733 -87.635491   \n",
       "49311      Clybourn Ave & Division St   TA1307000115  41.904613 -87.640552   \n",
       "69949   Financial Pl & Ida B Wells Dr         SL-010  41.875024 -87.633094   \n",
       "82802        Halsted St & Dickens Ave          13192  41.919884 -87.648791   \n",
       "139417      Ashland Ave & Division St          13061  41.903450 -87.667747   \n",
       "...                               ...            ...        ...        ...   \n",
       "677683       Lincoln Ave & Roscoe St*   chargingstx5  41.943322 -87.670977   \n",
       "677684       Lincoln Ave & Roscoe St*   chargingstx5  41.943317 -87.670950   \n",
       "677685       Lincoln Ave & Roscoe St*   chargingstx5  41.943258 -87.670954   \n",
       "682325       Lincoln Ave & Roscoe St*   chargingstx5  41.940000 -87.670000   \n",
       "682421       Lincoln Ave & Roscoe St*   chargingstx5  41.940000 -87.670000   \n",
       "\n",
       "          end_lat    end_lng member_casual  ride_length  day_number  \\\n",
       "8950    41.842733 -87.635491        member        -11.0           2   \n",
       "49311   41.904613 -87.640552        member         -6.0           2   \n",
       "69949   41.875024 -87.633094        member         -5.0           2   \n",
       "82802   41.919910 -87.648777        member        -14.0           2   \n",
       "139417  41.903450 -87.667747        member       -386.0           2   \n",
       "...           ...        ...           ...          ...         ...   \n",
       "677683  41.943350 -87.670668        member       -176.0           5   \n",
       "677684  41.943350 -87.670668        member       -113.0           5   \n",
       "677685  41.943350 -87.670668        member       -387.0           5   \n",
       "682325  41.943350 -87.670668        member        -41.0           5   \n",
       "682421  41.943350 -87.670668        member         -6.0           3   \n",
       "\n",
       "         day_name month_name  \n",
       "8950    Wednesday    2021-09  \n",
       "49311   Wednesday    2021-09  \n",
       "69949   Wednesday    2021-09  \n",
       "82802   Wednesday    2021-09  \n",
       "139417  Wednesday    2021-09  \n",
       "...           ...        ...  \n",
       "677683   Saturday    2022-08  \n",
       "677684   Saturday    2022-08  \n",
       "677685   Saturday    2022-08  \n",
       "682325   Saturday    2022-08  \n",
       "682421   Thursday    2022-08  \n",
       "\n",
       "[135 rows x 17 columns]"
      ]
     },
     "execution_count": 11,
     "metadata": {},
     "output_type": "execute_result"
    }
   ],
   "source": [
    "df_master[df_master.ride_length < 0]"
   ]
  },
  {
   "cell_type": "markdown",
   "id": "2482a94a",
   "metadata": {},
   "source": [
    "### From that we can identify that the start_at and end_at are not accurate, we cannot use this values for our analysis. This will be excluded to continue"
   ]
  },
  {
   "cell_type": "code",
   "execution_count": 12,
   "id": "182ca65d",
   "metadata": {},
   "outputs": [],
   "source": [
    "''' The new data frame with the accurate ride_length'''\n",
    "df_master=df_master[df_master.ride_length > 0] "
   ]
  },
  {
   "cell_type": "markdown",
   "id": "f2c1f4fa",
   "metadata": {},
   "source": [
    "## Checking for duplicate rows"
   ]
  },
  {
   "cell_type": "code",
   "execution_count": 13,
   "id": "878194ad",
   "metadata": {},
   "outputs": [
    {
     "data": {
      "text/html": [
       "<div>\n",
       "<style scoped>\n",
       "    .dataframe tbody tr th:only-of-type {\n",
       "        vertical-align: middle;\n",
       "    }\n",
       "\n",
       "    .dataframe tbody tr th {\n",
       "        vertical-align: top;\n",
       "    }\n",
       "\n",
       "    .dataframe thead th {\n",
       "        text-align: right;\n",
       "    }\n",
       "</style>\n",
       "<table border=\"1\" class=\"dataframe\">\n",
       "  <thead>\n",
       "    <tr style=\"text-align: right;\">\n",
       "      <th></th>\n",
       "      <th>ride_id</th>\n",
       "      <th>rideable_type</th>\n",
       "      <th>started_at</th>\n",
       "      <th>ended_at</th>\n",
       "      <th>start_station_name</th>\n",
       "      <th>start_station_id</th>\n",
       "      <th>end_station_name</th>\n",
       "      <th>end_station_id</th>\n",
       "      <th>start_lat</th>\n",
       "      <th>start_lng</th>\n",
       "      <th>end_lat</th>\n",
       "      <th>end_lng</th>\n",
       "      <th>member_casual</th>\n",
       "      <th>ride_length</th>\n",
       "      <th>day_number</th>\n",
       "      <th>day_name</th>\n",
       "      <th>month_name</th>\n",
       "    </tr>\n",
       "  </thead>\n",
       "  <tbody>\n",
       "  </tbody>\n",
       "</table>\n",
       "</div>"
      ],
      "text/plain": [
       "Empty DataFrame\n",
       "Columns: [ride_id, rideable_type, started_at, ended_at, start_station_name, start_station_id, end_station_name, end_station_id, start_lat, start_lng, end_lat, end_lng, member_casual, ride_length, day_number, day_name, month_name]\n",
       "Index: []"
      ]
     },
     "execution_count": 13,
     "metadata": {},
     "output_type": "execute_result"
    }
   ],
   "source": [
    "df_master[df_master.duplicated()]"
   ]
  },
  {
   "cell_type": "markdown",
   "id": "fb20b97e",
   "metadata": {},
   "source": [
    "## Finding Missing values in every columns"
   ]
  },
  {
   "cell_type": "code",
   "execution_count": 14,
   "id": "4dd4911b",
   "metadata": {},
   "outputs": [
    {
     "data": {
      "text/plain": [
       "ride_id                    0\n",
       "rideable_type              0\n",
       "started_at                 0\n",
       "ended_at                   0\n",
       "start_station_name    884333\n",
       "start_station_id      884331\n",
       "end_station_name      946004\n",
       "end_station_id        946004\n",
       "start_lat                  0\n",
       "start_lng                  0\n",
       "end_lat                 5727\n",
       "end_lng                 5727\n",
       "member_casual              0\n",
       "ride_length                0\n",
       "day_number                 0\n",
       "day_name                   0\n",
       "month_name                 0\n",
       "dtype: int64"
      ]
     },
     "execution_count": 14,
     "metadata": {},
     "output_type": "execute_result"
    }
   ],
   "source": [
    "df_master.isnull().sum()"
   ]
  },
  {
   "cell_type": "markdown",
   "id": "551fdc6d",
   "metadata": {},
   "source": [
    "# 3- Analysis"
   ]
  },
  {
   "cell_type": "markdown",
   "id": "0a393f62",
   "metadata": {},
   "source": [
    "###   calculations"
   ]
  },
  {
   "cell_type": "code",
   "execution_count": 15,
   "id": "2e0b1845",
   "metadata": {},
   "outputs": [
    {
     "name": "stdout",
     "output_type": "stream",
     "text": [
      "The mean of ride_length is : 1185.366370604564 seconds\n"
     ]
    }
   ],
   "source": [
    "# calculation of the mean of ride_length\n",
    "\n",
    "mean_value=df_master.ride_length.mean()\n",
    "print('The mean of ride_length is : {} seconds'.format(mean_value))"
   ]
  },
  {
   "cell_type": "code",
   "execution_count": 16,
   "id": "b25dc04c",
   "metadata": {},
   "outputs": [
    {
     "name": "stdout",
     "output_type": "stream",
     "text": [
      "The max of ride_length is : 2442301.0 seconds\n"
     ]
    }
   ],
   "source": [
    "# calculation of the max of ride_length\n",
    "\n",
    "max_value=df_master.ride_length.max()\n",
    "print('The max of ride_length is : {} seconds'.format(max_value))"
   ]
  },
  {
   "cell_type": "code",
   "execution_count": 17,
   "id": "c5def76a",
   "metadata": {},
   "outputs": [
    {
     "name": "stdout",
     "output_type": "stream",
     "text": [
      "Mode of the day of the week is : 0    Saturday\n",
      "Name: day_name, dtype: object\n"
     ]
    }
   ],
   "source": [
    "# calculation of the mode of the day of the week\n",
    "\n",
    "mode_week_day=df_master.day_name.mode()\n",
    "\n",
    "print('Mode of the day of the week is : '+str(mode_week_day))"
   ]
  },
  {
   "cell_type": "markdown",
   "id": "820b9e4a",
   "metadata": {},
   "source": [
    "### average ride_length for members and casual riders."
   ]
  },
  {
   "cell_type": "code",
   "execution_count": 18,
   "id": "295bf888",
   "metadata": {
    "scrolled": true
   },
   "outputs": [
    {
     "data": {
      "text/plain": [
       "member_casual\n",
       "casual    1758.072523\n",
       "member     771.358566\n",
       "Name: ride_length, dtype: float64"
      ]
     },
     "execution_count": 18,
     "metadata": {},
     "output_type": "execute_result"
    }
   ],
   "source": [
    "df_master.groupby(['member_casual'])['ride_length'].mean()"
   ]
  },
  {
   "cell_type": "markdown",
   "id": "a0775603",
   "metadata": {},
   "source": [
    "#### The average ride length of casual user is greater than that of members"
   ]
  },
  {
   "cell_type": "markdown",
   "id": "27e14c58",
   "metadata": {},
   "source": [
    "### average ride_length for users by day_of_week."
   ]
  },
  {
   "cell_type": "code",
   "execution_count": 19,
   "id": "72fd9fc6",
   "metadata": {
    "scrolled": true
   },
   "outputs": [
    {
     "data": {
      "text/html": [
       "<div>\n",
       "<style scoped>\n",
       "    .dataframe tbody tr th:only-of-type {\n",
       "        vertical-align: middle;\n",
       "    }\n",
       "\n",
       "    .dataframe tbody tr th {\n",
       "        vertical-align: top;\n",
       "    }\n",
       "\n",
       "    .dataframe thead th {\n",
       "        text-align: right;\n",
       "    }\n",
       "</style>\n",
       "<table border=\"1\" class=\"dataframe\">\n",
       "  <thead>\n",
       "    <tr style=\"text-align: right;\">\n",
       "      <th>day_name</th>\n",
       "      <th>Friday</th>\n",
       "      <th>Monday</th>\n",
       "      <th>Saturday</th>\n",
       "      <th>Sunday</th>\n",
       "      <th>Thursday</th>\n",
       "      <th>Tuesday</th>\n",
       "      <th>Wednesday</th>\n",
       "    </tr>\n",
       "    <tr>\n",
       "      <th>member_casual</th>\n",
       "      <th></th>\n",
       "      <th></th>\n",
       "      <th></th>\n",
       "      <th></th>\n",
       "      <th></th>\n",
       "      <th></th>\n",
       "      <th></th>\n",
       "    </tr>\n",
       "  </thead>\n",
       "  <tbody>\n",
       "    <tr>\n",
       "      <th>casual</th>\n",
       "      <td>1673.518862</td>\n",
       "      <td>1790.722222</td>\n",
       "      <td>1922.618228</td>\n",
       "      <td>2051.404179</td>\n",
       "      <td>1561.735976</td>\n",
       "      <td>1555.067563</td>\n",
       "      <td>1502.584880</td>\n",
       "    </tr>\n",
       "    <tr>\n",
       "      <th>member</th>\n",
       "      <td>755.722793</td>\n",
       "      <td>747.054532</td>\n",
       "      <td>858.159594</td>\n",
       "      <td>865.520164</td>\n",
       "      <td>742.521129</td>\n",
       "      <td>730.728589</td>\n",
       "      <td>731.830212</td>\n",
       "    </tr>\n",
       "  </tbody>\n",
       "</table>\n",
       "</div>"
      ],
      "text/plain": [
       "day_name            Friday       Monday     Saturday       Sunday  \\\n",
       "member_casual                                                       \n",
       "casual         1673.518862  1790.722222  1922.618228  2051.404179   \n",
       "member          755.722793   747.054532   858.159594   865.520164   \n",
       "\n",
       "day_name          Thursday      Tuesday    Wednesday  \n",
       "member_casual                                         \n",
       "casual         1561.735976  1555.067563  1502.584880  \n",
       "member          742.521129   730.728589   731.830212  "
      ]
     },
     "execution_count": 19,
     "metadata": {},
     "output_type": "execute_result"
    }
   ],
   "source": [
    "draw2=df_master.groupby(['member_casual','day_name'])['ride_length'].mean().unstack()\n",
    "draw2"
   ]
  },
  {
   "cell_type": "markdown",
   "id": "938ad6c1",
   "metadata": {},
   "source": [
    "### number of rides for users by day_of_week by adding Count of trip_id to Values."
   ]
  },
  {
   "cell_type": "code",
   "execution_count": 20,
   "id": "062cf3b9",
   "metadata": {},
   "outputs": [
    {
     "data": {
      "text/html": [
       "<div>\n",
       "<style scoped>\n",
       "    .dataframe tbody tr th:only-of-type {\n",
       "        vertical-align: middle;\n",
       "    }\n",
       "\n",
       "    .dataframe tbody tr th {\n",
       "        vertical-align: top;\n",
       "    }\n",
       "\n",
       "    .dataframe thead th {\n",
       "        text-align: right;\n",
       "    }\n",
       "</style>\n",
       "<table border=\"1\" class=\"dataframe\">\n",
       "  <thead>\n",
       "    <tr style=\"text-align: right;\">\n",
       "      <th>day_name</th>\n",
       "      <th>Friday</th>\n",
       "      <th>Monday</th>\n",
       "      <th>Saturday</th>\n",
       "      <th>Sunday</th>\n",
       "      <th>Thursday</th>\n",
       "      <th>Tuesday</th>\n",
       "      <th>Wednesday</th>\n",
       "    </tr>\n",
       "    <tr>\n",
       "      <th>member_casual</th>\n",
       "      <th></th>\n",
       "      <th></th>\n",
       "      <th></th>\n",
       "      <th></th>\n",
       "      <th></th>\n",
       "      <th></th>\n",
       "      <th></th>\n",
       "    </tr>\n",
       "  </thead>\n",
       "  <tbody>\n",
       "    <tr>\n",
       "      <th>casual</th>\n",
       "      <td>345988</td>\n",
       "      <td>292158</td>\n",
       "      <td>509996</td>\n",
       "      <td>437368</td>\n",
       "      <td>311457</td>\n",
       "      <td>277979</td>\n",
       "      <td>293221</td>\n",
       "    </tr>\n",
       "    <tr>\n",
       "      <th>member</th>\n",
       "      <td>472149</td>\n",
       "      <td>474789</td>\n",
       "      <td>453984</td>\n",
       "      <td>404467</td>\n",
       "      <td>525451</td>\n",
       "      <td>536453</td>\n",
       "      <td>546977</td>\n",
       "    </tr>\n",
       "  </tbody>\n",
       "</table>\n",
       "</div>"
      ],
      "text/plain": [
       "day_name       Friday  Monday  Saturday  Sunday  Thursday  Tuesday  Wednesday\n",
       "member_casual                                                                \n",
       "casual         345988  292158    509996  437368    311457   277979     293221\n",
       "member         472149  474789    453984  404467    525451   536453     546977"
      ]
     },
     "execution_count": 20,
     "metadata": {},
     "output_type": "execute_result"
    }
   ],
   "source": [
    "df_master.groupby(['member_casual','day_name'])['ride_id'].count().unstack()"
   ]
  },
  {
   "cell_type": "code",
   "execution_count": 21,
   "id": "afea5111",
   "metadata": {},
   "outputs": [],
   "source": [
    "df_master.to_csv('final_trip.csv',index=False)"
   ]
  },
  {
   "cell_type": "code",
   "execution_count": 22,
   "id": "d5079476",
   "metadata": {},
   "outputs": [
    {
     "data": {
      "text/plain": [
       "day_name\n",
       "Friday       818137\n",
       "Monday       766947\n",
       "Saturday     963980\n",
       "Sunday       841835\n",
       "Thursday     836908\n",
       "Tuesday      814432\n",
       "Wednesday    840198\n",
       "Name: day_name, dtype: int64"
      ]
     },
     "execution_count": 22,
     "metadata": {},
     "output_type": "execute_result"
    }
   ],
   "source": [
    "df_master.groupby(['day_name'])['day_name'].count()"
   ]
  },
  {
   "cell_type": "code",
   "execution_count": null,
   "id": "2bab5587",
   "metadata": {},
   "outputs": [],
   "source": []
  }
 ],
 "metadata": {
  "kernelspec": {
   "display_name": "Python 3 (ipykernel)",
   "language": "python",
   "name": "python3"
  },
  "language_info": {
   "codemirror_mode": {
    "name": "ipython",
    "version": 3
   },
   "file_extension": ".py",
   "mimetype": "text/x-python",
   "name": "python",
   "nbconvert_exporter": "python",
   "pygments_lexer": "ipython3",
   "version": "3.9.2"
  }
 },
 "nbformat": 4,
 "nbformat_minor": 5
}
